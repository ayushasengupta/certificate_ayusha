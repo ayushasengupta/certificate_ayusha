{
 "cells": [
  {
   "cell_type": "code",
   "execution_count": 1,
   "metadata": {},
   "outputs": [
    {
     "name": "stdout",
     "output_type": "stream",
     "text": [
      "Enter your name: Ayusha Sengupta\n",
      "True\n"
     ]
    }
   ],
   "source": [
    "from PIL import Image, ImageDraw, ImageFont\n",
    "img = Image.open(r\"C:\\Users\\DELL-PC\\Downloads\\CertificateTemplate.jpg\")\n",
    "import matplotlib.pyplot as plt\n",
    "import numpy as np \n",
    "def print_img(img):\n",
    "    plt.imshow(np.array(img))\n",
    "    plt.show()\n",
    "import cv2\n",
    "\n",
    "img =cv2.imread(r\"C:\\Users\\DELL-PC\\Downloads\\CertificateTemplate.jpg\")\n",
    "\n",
    "def generate_certificate(img, name= \"Enter name: \"):\n",
    "    generated_image = img.copy()\n",
    "    font = cv2.FONT_HERSHEY_SIMPLEX\n",
    "    coordinates = (700,750)\n",
    "    font_size = 3.5\n",
    "    font_color= (51,51,51)\n",
    "    font_thickness =10\n",
    "    cv2.putText(generated_image, name,coordinates,font,font_size,font_color,font_thickness)\n",
    "    return generated_image\n",
    "\n",
    "def save_img(img, name):\n",
    "    path =r\"C:\\Users\\DELL-PC\\Downloads\\Certi_{}.jpg\".format(name)\n",
    "    print(cv2.imwrite(path, img))\n",
    "    \n",
    "\n",
    "if __name__ == \"__main__\":\n",
    "        \n",
    "    name = input(\"Enter your name: \")\n",
    "    generated_image = generate_certificate(img, name)\n",
    "    save_img(generated_image, name)\n"
   ]
  },
  {
   "cell_type": "code",
   "execution_count": null,
   "metadata": {},
   "outputs": [],
   "source": []
  }
 ],
 "metadata": {
  "kernelspec": {
   "display_name": "Python 3",
   "language": "python",
   "name": "python3"
  },
  "language_info": {
   "codemirror_mode": {
    "name": "ipython",
    "version": 3
   },
   "file_extension": ".py",
   "mimetype": "text/x-python",
   "name": "python",
   "nbconvert_exporter": "python",
   "pygments_lexer": "ipython3",
   "version": "3.7.6"
  }
 },
 "nbformat": 4,
 "nbformat_minor": 4
}
